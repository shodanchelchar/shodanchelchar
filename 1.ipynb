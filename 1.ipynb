{
 "cells": [
  {
   "cell_type": "code",
   "execution_count": 2,
   "metadata": {},
   "outputs": [
    {
     "name": "stdout",
     "output_type": "stream",
     "text": [
      "Requirement already satisfied: paddlepaddle-gpu in ./.venv/lib/python3.10/site-packages (2.6.0)\n",
      "Requirement already satisfied: httpx in ./.venv/lib/python3.10/site-packages (from paddlepaddle-gpu) (0.26.0)\n",
      "Requirement already satisfied: numpy>=1.13 in ./.venv/lib/python3.10/site-packages (from paddlepaddle-gpu) (1.26.3)\n",
      "Requirement already satisfied: Pillow in ./.venv/lib/python3.10/site-packages (from paddlepaddle-gpu) (10.2.0)\n",
      "Requirement already satisfied: decorator in ./.venv/lib/python3.10/site-packages (from paddlepaddle-gpu) (5.1.1)\n",
      "Requirement already satisfied: astor in ./.venv/lib/python3.10/site-packages (from paddlepaddle-gpu) (0.8.1)\n",
      "Requirement already satisfied: opt-einsum==3.3.0 in ./.venv/lib/python3.10/site-packages (from paddlepaddle-gpu) (3.3.0)\n",
      "Requirement already satisfied: protobuf>=3.20.2 in ./.venv/lib/python3.10/site-packages (from paddlepaddle-gpu) (4.25.2)\n",
      "Requirement already satisfied: anyio in ./.venv/lib/python3.10/site-packages (from httpx->paddlepaddle-gpu) (4.2.0)\n",
      "Requirement already satisfied: certifi in ./.venv/lib/python3.10/site-packages (from httpx->paddlepaddle-gpu) (2023.11.17)\n",
      "Requirement already satisfied: httpcore==1.* in ./.venv/lib/python3.10/site-packages (from httpx->paddlepaddle-gpu) (1.0.2)\n",
      "Requirement already satisfied: idna in ./.venv/lib/python3.10/site-packages (from httpx->paddlepaddle-gpu) (3.6)\n",
      "Requirement already satisfied: sniffio in ./.venv/lib/python3.10/site-packages (from httpx->paddlepaddle-gpu) (1.3.0)\n",
      "Requirement already satisfied: h11<0.15,>=0.13 in ./.venv/lib/python3.10/site-packages (from httpcore==1.*->httpx->paddlepaddle-gpu) (0.14.0)\n",
      "Requirement already satisfied: exceptiongroup>=1.0.2 in ./.venv/lib/python3.10/site-packages (from anyio->httpx->paddlepaddle-gpu) (1.2.0)\n",
      "Requirement already satisfied: typing-extensions>=4.1 in ./.venv/lib/python3.10/site-packages (from anyio->httpx->paddlepaddle-gpu) (4.9.0)\n",
      "Requirement already satisfied: paddleocr in ./.venv/lib/python3.10/site-packages (2.7.0.3)\n",
      "Requirement already satisfied: shapely in ./.venv/lib/python3.10/site-packages (from paddleocr) (2.0.2)\n",
      "Requirement already satisfied: scikit-image in ./.venv/lib/python3.10/site-packages (from paddleocr) (0.22.0)\n",
      "Requirement already satisfied: imgaug in ./.venv/lib/python3.10/site-packages (from paddleocr) (0.4.0)\n",
      "Requirement already satisfied: pyclipper in ./.venv/lib/python3.10/site-packages (from paddleocr) (1.3.0.post5)\n",
      "Requirement already satisfied: lmdb in ./.venv/lib/python3.10/site-packages (from paddleocr) (1.4.1)\n",
      "Requirement already satisfied: tqdm in ./.venv/lib/python3.10/site-packages (from paddleocr) (4.66.1)\n",
      "Requirement already satisfied: numpy in ./.venv/lib/python3.10/site-packages (from paddleocr) (1.26.3)\n",
      "Requirement already satisfied: visualdl in ./.venv/lib/python3.10/site-packages (from paddleocr) (2.5.3)\n",
      "Requirement already satisfied: rapidfuzz in ./.venv/lib/python3.10/site-packages (from paddleocr) (3.6.1)\n",
      "Requirement already satisfied: opencv-python<=4.6.0.66 in ./.venv/lib/python3.10/site-packages (from paddleocr) (4.6.0.66)\n",
      "Requirement already satisfied: opencv-contrib-python<=4.6.0.66 in ./.venv/lib/python3.10/site-packages (from paddleocr) (4.6.0.66)\n",
      "Requirement already satisfied: cython in ./.venv/lib/python3.10/site-packages (from paddleocr) (3.0.8)\n",
      "Requirement already satisfied: lxml in ./.venv/lib/python3.10/site-packages (from paddleocr) (5.1.0)\n",
      "Requirement already satisfied: premailer in ./.venv/lib/python3.10/site-packages (from paddleocr) (3.10.0)\n",
      "Requirement already satisfied: openpyxl in ./.venv/lib/python3.10/site-packages (from paddleocr) (3.1.2)\n",
      "Requirement already satisfied: attrdict in ./.venv/lib/python3.10/site-packages (from paddleocr) (2.0.1)\n",
      "Requirement already satisfied: PyMuPDF<1.21.0 in ./.venv/lib/python3.10/site-packages (from paddleocr) (1.20.2)\n",
      "Requirement already satisfied: Pillow>=10.0.0 in ./.venv/lib/python3.10/site-packages (from paddleocr) (10.2.0)\n",
      "Requirement already satisfied: pyyaml in ./.venv/lib/python3.10/site-packages (from paddleocr) (6.0.1)\n",
      "Requirement already satisfied: python-docx in ./.venv/lib/python3.10/site-packages (from paddleocr) (1.1.0)\n",
      "Requirement already satisfied: beautifulsoup4 in ./.venv/lib/python3.10/site-packages (from paddleocr) (4.12.3)\n",
      "Requirement already satisfied: fonttools>=4.24.0 in ./.venv/lib/python3.10/site-packages (from paddleocr) (4.47.2)\n",
      "Requirement already satisfied: fire>=0.3.0 in ./.venv/lib/python3.10/site-packages (from paddleocr) (0.5.0)\n",
      "Requirement already satisfied: pdf2docx in ./.venv/lib/python3.10/site-packages (from paddleocr) (0.5.7)\n",
      "Requirement already satisfied: six in ./.venv/lib/python3.10/site-packages (from fire>=0.3.0->paddleocr) (1.16.0)\n",
      "Requirement already satisfied: termcolor in ./.venv/lib/python3.10/site-packages (from fire>=0.3.0->paddleocr) (2.4.0)\n",
      "Requirement already satisfied: soupsieve>1.2 in ./.venv/lib/python3.10/site-packages (from beautifulsoup4->paddleocr) (2.5)\n",
      "Requirement already satisfied: scipy in ./.venv/lib/python3.10/site-packages (from imgaug->paddleocr) (1.12.0)\n",
      "Requirement already satisfied: matplotlib in ./.venv/lib/python3.10/site-packages (from imgaug->paddleocr) (3.8.2)\n",
      "Requirement already satisfied: imageio in ./.venv/lib/python3.10/site-packages (from imgaug->paddleocr) (2.33.1)\n",
      "Requirement already satisfied: networkx>=2.8 in ./.venv/lib/python3.10/site-packages (from scikit-image->paddleocr) (3.2.1)\n",
      "Requirement already satisfied: tifffile>=2022.8.12 in ./.venv/lib/python3.10/site-packages (from scikit-image->paddleocr) (2023.12.9)\n",
      "Requirement already satisfied: packaging>=21 in ./.venv/lib/python3.10/site-packages (from scikit-image->paddleocr) (23.2)\n",
      "Requirement already satisfied: lazy_loader>=0.3 in ./.venv/lib/python3.10/site-packages (from scikit-image->paddleocr) (0.3)\n",
      "Requirement already satisfied: et-xmlfile in ./.venv/lib/python3.10/site-packages (from openpyxl->paddleocr) (1.1.0)\n",
      "Requirement already satisfied: typing-extensions in ./.venv/lib/python3.10/site-packages (from python-docx->paddleocr) (4.9.0)\n",
      "Requirement already satisfied: cssselect in ./.venv/lib/python3.10/site-packages (from premailer->paddleocr) (1.2.0)\n",
      "Requirement already satisfied: cssutils in ./.venv/lib/python3.10/site-packages (from premailer->paddleocr) (2.9.0)\n",
      "Requirement already satisfied: requests in ./.venv/lib/python3.10/site-packages (from premailer->paddleocr) (2.31.0)\n",
      "Requirement already satisfied: cachetools in ./.venv/lib/python3.10/site-packages (from premailer->paddleocr) (5.3.2)\n",
      "Requirement already satisfied: bce-python-sdk in ./.venv/lib/python3.10/site-packages (from visualdl->paddleocr) (0.9.2)\n",
      "Requirement already satisfied: flask>=1.1.1 in ./.venv/lib/python3.10/site-packages (from visualdl->paddleocr) (3.0.1)\n",
      "Requirement already satisfied: Flask-Babel>=3.0.0 in ./.venv/lib/python3.10/site-packages (from visualdl->paddleocr) (4.0.0)\n",
      "Requirement already satisfied: protobuf>=3.20.0 in ./.venv/lib/python3.10/site-packages (from visualdl->paddleocr) (4.25.2)\n",
      "Requirement already satisfied: pandas in ./.venv/lib/python3.10/site-packages (from visualdl->paddleocr) (2.2.0)\n",
      "Requirement already satisfied: rarfile in ./.venv/lib/python3.10/site-packages (from visualdl->paddleocr) (4.1)\n",
      "Requirement already satisfied: psutil in ./.venv/lib/python3.10/site-packages (from visualdl->paddleocr) (5.9.8)\n",
      "Requirement already satisfied: Werkzeug>=3.0.0 in ./.venv/lib/python3.10/site-packages (from flask>=1.1.1->visualdl->paddleocr) (3.0.1)\n",
      "Requirement already satisfied: Jinja2>=3.1.2 in ./.venv/lib/python3.10/site-packages (from flask>=1.1.1->visualdl->paddleocr) (3.1.3)\n",
      "Requirement already satisfied: itsdangerous>=2.1.2 in ./.venv/lib/python3.10/site-packages (from flask>=1.1.1->visualdl->paddleocr) (2.1.2)\n",
      "Requirement already satisfied: click>=8.1.3 in ./.venv/lib/python3.10/site-packages (from flask>=1.1.1->visualdl->paddleocr) (8.1.7)\n",
      "Requirement already satisfied: blinker>=1.6.2 in ./.venv/lib/python3.10/site-packages (from flask>=1.1.1->visualdl->paddleocr) (1.7.0)\n",
      "Requirement already satisfied: Babel>=2.12 in ./.venv/lib/python3.10/site-packages (from Flask-Babel>=3.0.0->visualdl->paddleocr) (2.14.0)\n",
      "Requirement already satisfied: pytz>=2022.7 in ./.venv/lib/python3.10/site-packages (from Flask-Babel>=3.0.0->visualdl->paddleocr) (2023.3.post1)\n",
      "Requirement already satisfied: pycryptodome>=3.8.0 in ./.venv/lib/python3.10/site-packages (from bce-python-sdk->visualdl->paddleocr) (3.20.0)\n",
      "Requirement already satisfied: future>=0.6.0 in ./.venv/lib/python3.10/site-packages (from bce-python-sdk->visualdl->paddleocr) (0.18.3)\n",
      "Requirement already satisfied: contourpy>=1.0.1 in ./.venv/lib/python3.10/site-packages (from matplotlib->imgaug->paddleocr) (1.2.0)\n",
      "Requirement already satisfied: cycler>=0.10 in ./.venv/lib/python3.10/site-packages (from matplotlib->imgaug->paddleocr) (0.12.1)\n",
      "Requirement already satisfied: kiwisolver>=1.3.1 in ./.venv/lib/python3.10/site-packages (from matplotlib->imgaug->paddleocr) (1.4.5)\n",
      "Requirement already satisfied: pyparsing>=2.3.1 in ./.venv/lib/python3.10/site-packages (from matplotlib->imgaug->paddleocr) (3.1.1)\n",
      "Requirement already satisfied: python-dateutil>=2.7 in ./.venv/lib/python3.10/site-packages (from matplotlib->imgaug->paddleocr) (2.8.2)\n",
      "Requirement already satisfied: tzdata>=2022.7 in ./.venv/lib/python3.10/site-packages (from pandas->visualdl->paddleocr) (2023.4)\n",
      "Requirement already satisfied: charset-normalizer<4,>=2 in ./.venv/lib/python3.10/site-packages (from requests->premailer->paddleocr) (3.3.2)\n",
      "Requirement already satisfied: idna<4,>=2.5 in ./.venv/lib/python3.10/site-packages (from requests->premailer->paddleocr) (3.6)\n",
      "Requirement already satisfied: urllib3<3,>=1.21.1 in ./.venv/lib/python3.10/site-packages (from requests->premailer->paddleocr) (2.1.0)\n",
      "Requirement already satisfied: certifi>=2017.4.17 in ./.venv/lib/python3.10/site-packages (from requests->premailer->paddleocr) (2023.11.17)\n",
      "Requirement already satisfied: MarkupSafe>=2.0 in ./.venv/lib/python3.10/site-packages (from Jinja2>=3.1.2->flask>=1.1.1->visualdl->paddleocr) (2.1.4)\n",
      "Requirement already satisfied: paddlepaddle in ./.venv/lib/python3.10/site-packages (2.6.0)\n",
      "Requirement already satisfied: httpx in ./.venv/lib/python3.10/site-packages (from paddlepaddle) (0.26.0)\n",
      "Requirement already satisfied: numpy>=1.13 in ./.venv/lib/python3.10/site-packages (from paddlepaddle) (1.26.3)\n",
      "Requirement already satisfied: Pillow in ./.venv/lib/python3.10/site-packages (from paddlepaddle) (10.2.0)\n",
      "Requirement already satisfied: decorator in ./.venv/lib/python3.10/site-packages (from paddlepaddle) (5.1.1)\n",
      "Requirement already satisfied: astor in ./.venv/lib/python3.10/site-packages (from paddlepaddle) (0.8.1)\n",
      "Requirement already satisfied: opt-einsum==3.3.0 in ./.venv/lib/python3.10/site-packages (from paddlepaddle) (3.3.0)\n",
      "Requirement already satisfied: protobuf>=3.20.2 in ./.venv/lib/python3.10/site-packages (from paddlepaddle) (4.25.2)\n",
      "Requirement already satisfied: anyio in ./.venv/lib/python3.10/site-packages (from httpx->paddlepaddle) (4.2.0)\n",
      "Requirement already satisfied: certifi in ./.venv/lib/python3.10/site-packages (from httpx->paddlepaddle) (2023.11.17)\n",
      "Requirement already satisfied: httpcore==1.* in ./.venv/lib/python3.10/site-packages (from httpx->paddlepaddle) (1.0.2)\n",
      "Requirement already satisfied: idna in ./.venv/lib/python3.10/site-packages (from httpx->paddlepaddle) (3.6)\n",
      "Requirement already satisfied: sniffio in ./.venv/lib/python3.10/site-packages (from httpx->paddlepaddle) (1.3.0)\n",
      "Requirement already satisfied: h11<0.15,>=0.13 in ./.venv/lib/python3.10/site-packages (from httpcore==1.*->httpx->paddlepaddle) (0.14.0)\n",
      "Requirement already satisfied: exceptiongroup>=1.0.2 in ./.venv/lib/python3.10/site-packages (from anyio->httpx->paddlepaddle) (1.2.0)\n",
      "Requirement already satisfied: typing-extensions>=4.1 in ./.venv/lib/python3.10/site-packages (from anyio->httpx->paddlepaddle) (4.9.0)\n",
      "Requirement already satisfied: opencv-python in ./.venv/lib/python3.10/site-packages (4.6.0.66)\n",
      "Requirement already satisfied: numpy>=1.21.2 in ./.venv/lib/python3.10/site-packages (from opencv-python) (1.26.3)\n",
      "Looking in indexes: https://pypi.tuna.tsinghua.edu.cn/simple\n",
      "Requirement already satisfied: paddlepaddle-gpu in ./.venv/lib/python3.10/site-packages (2.6.0)\n",
      "Requirement already satisfied: httpx in ./.venv/lib/python3.10/site-packages (from paddlepaddle-gpu) (0.26.0)\n",
      "Requirement already satisfied: numpy>=1.13 in ./.venv/lib/python3.10/site-packages (from paddlepaddle-gpu) (1.26.3)\n",
      "Requirement already satisfied: Pillow in ./.venv/lib/python3.10/site-packages (from paddlepaddle-gpu) (10.2.0)\n",
      "Requirement already satisfied: decorator in ./.venv/lib/python3.10/site-packages (from paddlepaddle-gpu) (5.1.1)\n",
      "Requirement already satisfied: astor in ./.venv/lib/python3.10/site-packages (from paddlepaddle-gpu) (0.8.1)\n",
      "Requirement already satisfied: opt-einsum==3.3.0 in ./.venv/lib/python3.10/site-packages (from paddlepaddle-gpu) (3.3.0)\n",
      "Requirement already satisfied: protobuf>=3.20.2 in ./.venv/lib/python3.10/site-packages (from paddlepaddle-gpu) (4.25.2)\n",
      "Requirement already satisfied: anyio in ./.venv/lib/python3.10/site-packages (from httpx->paddlepaddle-gpu) (4.2.0)\n",
      "Requirement already satisfied: certifi in ./.venv/lib/python3.10/site-packages (from httpx->paddlepaddle-gpu) (2023.11.17)\n",
      "Requirement already satisfied: httpcore==1.* in ./.venv/lib/python3.10/site-packages (from httpx->paddlepaddle-gpu) (1.0.2)\n",
      "Requirement already satisfied: idna in ./.venv/lib/python3.10/site-packages (from httpx->paddlepaddle-gpu) (3.6)\n",
      "Requirement already satisfied: sniffio in ./.venv/lib/python3.10/site-packages (from httpx->paddlepaddle-gpu) (1.3.0)\n",
      "Requirement already satisfied: h11<0.15,>=0.13 in ./.venv/lib/python3.10/site-packages (from httpcore==1.*->httpx->paddlepaddle-gpu) (0.14.0)\n",
      "Requirement already satisfied: exceptiongroup>=1.0.2 in ./.venv/lib/python3.10/site-packages (from anyio->httpx->paddlepaddle-gpu) (1.2.0)\n",
      "Requirement already satisfied: typing-extensions>=4.1 in ./.venv/lib/python3.10/site-packages (from anyio->httpx->paddlepaddle-gpu) (4.9.0)\n",
      "Looking in indexes: https://pypi.tuna.tsinghua.edu.cn/simple\n",
      "Requirement already satisfied: paddlepaddle in ./.venv/lib/python3.10/site-packages (2.6.0)\n",
      "Requirement already satisfied: httpx in ./.venv/lib/python3.10/site-packages (from paddlepaddle) (0.26.0)\n",
      "Requirement already satisfied: numpy>=1.13 in ./.venv/lib/python3.10/site-packages (from paddlepaddle) (1.26.3)\n",
      "Requirement already satisfied: Pillow in ./.venv/lib/python3.10/site-packages (from paddlepaddle) (10.2.0)\n",
      "Requirement already satisfied: decorator in ./.venv/lib/python3.10/site-packages (from paddlepaddle) (5.1.1)\n",
      "Requirement already satisfied: astor in ./.venv/lib/python3.10/site-packages (from paddlepaddle) (0.8.1)\n",
      "Requirement already satisfied: opt-einsum==3.3.0 in ./.venv/lib/python3.10/site-packages (from paddlepaddle) (3.3.0)\n",
      "Requirement already satisfied: protobuf>=3.20.2 in ./.venv/lib/python3.10/site-packages (from paddlepaddle) (4.25.2)\n",
      "Requirement already satisfied: anyio in ./.venv/lib/python3.10/site-packages (from httpx->paddlepaddle) (4.2.0)\n",
      "Requirement already satisfied: certifi in ./.venv/lib/python3.10/site-packages (from httpx->paddlepaddle) (2023.11.17)\n",
      "Requirement already satisfied: httpcore==1.* in ./.venv/lib/python3.10/site-packages (from httpx->paddlepaddle) (1.0.2)\n",
      "Requirement already satisfied: idna in ./.venv/lib/python3.10/site-packages (from httpx->paddlepaddle) (3.6)\n",
      "Requirement already satisfied: sniffio in ./.venv/lib/python3.10/site-packages (from httpx->paddlepaddle) (1.3.0)\n",
      "Requirement already satisfied: h11<0.15,>=0.13 in ./.venv/lib/python3.10/site-packages (from httpcore==1.*->httpx->paddlepaddle) (0.14.0)\n",
      "Requirement already satisfied: exceptiongroup>=1.0.2 in ./.venv/lib/python3.10/site-packages (from anyio->httpx->paddlepaddle) (1.2.0)\n",
      "Requirement already satisfied: typing-extensions>=4.1 in ./.venv/lib/python3.10/site-packages (from anyio->httpx->paddlepaddle) (4.9.0)\n",
      "Requirement already satisfied: paddleocr>=2.0.1 in ./.venv/lib/python3.10/site-packages (2.7.0.3)\n",
      "Requirement already satisfied: shapely in ./.venv/lib/python3.10/site-packages (from paddleocr>=2.0.1) (2.0.2)\n",
      "Requirement already satisfied: scikit-image in ./.venv/lib/python3.10/site-packages (from paddleocr>=2.0.1) (0.22.0)\n",
      "Requirement already satisfied: imgaug in ./.venv/lib/python3.10/site-packages (from paddleocr>=2.0.1) (0.4.0)\n",
      "Requirement already satisfied: pyclipper in ./.venv/lib/python3.10/site-packages (from paddleocr>=2.0.1) (1.3.0.post5)\n",
      "Requirement already satisfied: lmdb in ./.venv/lib/python3.10/site-packages (from paddleocr>=2.0.1) (1.4.1)\n",
      "Requirement already satisfied: tqdm in ./.venv/lib/python3.10/site-packages (from paddleocr>=2.0.1) (4.66.1)\n",
      "Requirement already satisfied: numpy in ./.venv/lib/python3.10/site-packages (from paddleocr>=2.0.1) (1.26.3)\n",
      "Requirement already satisfied: visualdl in ./.venv/lib/python3.10/site-packages (from paddleocr>=2.0.1) (2.5.3)\n",
      "Requirement already satisfied: rapidfuzz in ./.venv/lib/python3.10/site-packages (from paddleocr>=2.0.1) (3.6.1)\n",
      "Requirement already satisfied: opencv-python<=4.6.0.66 in ./.venv/lib/python3.10/site-packages (from paddleocr>=2.0.1) (4.6.0.66)\n",
      "Requirement already satisfied: opencv-contrib-python<=4.6.0.66 in ./.venv/lib/python3.10/site-packages (from paddleocr>=2.0.1) (4.6.0.66)\n",
      "Requirement already satisfied: cython in ./.venv/lib/python3.10/site-packages (from paddleocr>=2.0.1) (3.0.8)\n",
      "Requirement already satisfied: lxml in ./.venv/lib/python3.10/site-packages (from paddleocr>=2.0.1) (5.1.0)\n",
      "Requirement already satisfied: premailer in ./.venv/lib/python3.10/site-packages (from paddleocr>=2.0.1) (3.10.0)\n",
      "Requirement already satisfied: openpyxl in ./.venv/lib/python3.10/site-packages (from paddleocr>=2.0.1) (3.1.2)\n",
      "Requirement already satisfied: attrdict in ./.venv/lib/python3.10/site-packages (from paddleocr>=2.0.1) (2.0.1)\n",
      "Requirement already satisfied: PyMuPDF<1.21.0 in ./.venv/lib/python3.10/site-packages (from paddleocr>=2.0.1) (1.20.2)\n",
      "Requirement already satisfied: Pillow>=10.0.0 in ./.venv/lib/python3.10/site-packages (from paddleocr>=2.0.1) (10.2.0)\n",
      "Requirement already satisfied: pyyaml in ./.venv/lib/python3.10/site-packages (from paddleocr>=2.0.1) (6.0.1)\n",
      "Requirement already satisfied: python-docx in ./.venv/lib/python3.10/site-packages (from paddleocr>=2.0.1) (1.1.0)\n",
      "Requirement already satisfied: beautifulsoup4 in ./.venv/lib/python3.10/site-packages (from paddleocr>=2.0.1) (4.12.3)\n",
      "Requirement already satisfied: fonttools>=4.24.0 in ./.venv/lib/python3.10/site-packages (from paddleocr>=2.0.1) (4.47.2)\n",
      "Requirement already satisfied: fire>=0.3.0 in ./.venv/lib/python3.10/site-packages (from paddleocr>=2.0.1) (0.5.0)\n",
      "Requirement already satisfied: pdf2docx in ./.venv/lib/python3.10/site-packages (from paddleocr>=2.0.1) (0.5.7)\n",
      "Requirement already satisfied: six in ./.venv/lib/python3.10/site-packages (from fire>=0.3.0->paddleocr>=2.0.1) (1.16.0)\n",
      "Requirement already satisfied: termcolor in ./.venv/lib/python3.10/site-packages (from fire>=0.3.0->paddleocr>=2.0.1) (2.4.0)\n",
      "Requirement already satisfied: soupsieve>1.2 in ./.venv/lib/python3.10/site-packages (from beautifulsoup4->paddleocr>=2.0.1) (2.5)\n",
      "Requirement already satisfied: scipy in ./.venv/lib/python3.10/site-packages (from imgaug->paddleocr>=2.0.1) (1.12.0)\n",
      "Requirement already satisfied: matplotlib in ./.venv/lib/python3.10/site-packages (from imgaug->paddleocr>=2.0.1) (3.8.2)\n",
      "Requirement already satisfied: imageio in ./.venv/lib/python3.10/site-packages (from imgaug->paddleocr>=2.0.1) (2.33.1)\n",
      "Requirement already satisfied: networkx>=2.8 in ./.venv/lib/python3.10/site-packages (from scikit-image->paddleocr>=2.0.1) (3.2.1)\n",
      "Requirement already satisfied: tifffile>=2022.8.12 in ./.venv/lib/python3.10/site-packages (from scikit-image->paddleocr>=2.0.1) (2023.12.9)\n",
      "Requirement already satisfied: packaging>=21 in ./.venv/lib/python3.10/site-packages (from scikit-image->paddleocr>=2.0.1) (23.2)\n",
      "Requirement already satisfied: lazy_loader>=0.3 in ./.venv/lib/python3.10/site-packages (from scikit-image->paddleocr>=2.0.1) (0.3)\n",
      "Requirement already satisfied: et-xmlfile in ./.venv/lib/python3.10/site-packages (from openpyxl->paddleocr>=2.0.1) (1.1.0)\n",
      "Requirement already satisfied: typing-extensions in ./.venv/lib/python3.10/site-packages (from python-docx->paddleocr>=2.0.1) (4.9.0)\n",
      "Requirement already satisfied: cssselect in ./.venv/lib/python3.10/site-packages (from premailer->paddleocr>=2.0.1) (1.2.0)\n",
      "Requirement already satisfied: cssutils in ./.venv/lib/python3.10/site-packages (from premailer->paddleocr>=2.0.1) (2.9.0)\n",
      "Requirement already satisfied: requests in ./.venv/lib/python3.10/site-packages (from premailer->paddleocr>=2.0.1) (2.31.0)\n",
      "Requirement already satisfied: cachetools in ./.venv/lib/python3.10/site-packages (from premailer->paddleocr>=2.0.1) (5.3.2)\n",
      "Requirement already satisfied: bce-python-sdk in ./.venv/lib/python3.10/site-packages (from visualdl->paddleocr>=2.0.1) (0.9.2)\n",
      "Requirement already satisfied: flask>=1.1.1 in ./.venv/lib/python3.10/site-packages (from visualdl->paddleocr>=2.0.1) (3.0.1)\n",
      "Requirement already satisfied: Flask-Babel>=3.0.0 in ./.venv/lib/python3.10/site-packages (from visualdl->paddleocr>=2.0.1) (4.0.0)\n",
      "Requirement already satisfied: protobuf>=3.20.0 in ./.venv/lib/python3.10/site-packages (from visualdl->paddleocr>=2.0.1) (4.25.2)\n",
      "Requirement already satisfied: pandas in ./.venv/lib/python3.10/site-packages (from visualdl->paddleocr>=2.0.1) (2.2.0)\n",
      "Requirement already satisfied: rarfile in ./.venv/lib/python3.10/site-packages (from visualdl->paddleocr>=2.0.1) (4.1)\n",
      "Requirement already satisfied: psutil in ./.venv/lib/python3.10/site-packages (from visualdl->paddleocr>=2.0.1) (5.9.8)\n",
      "Requirement already satisfied: Werkzeug>=3.0.0 in ./.venv/lib/python3.10/site-packages (from flask>=1.1.1->visualdl->paddleocr>=2.0.1) (3.0.1)\n",
      "Requirement already satisfied: Jinja2>=3.1.2 in ./.venv/lib/python3.10/site-packages (from flask>=1.1.1->visualdl->paddleocr>=2.0.1) (3.1.3)\n",
      "Requirement already satisfied: itsdangerous>=2.1.2 in ./.venv/lib/python3.10/site-packages (from flask>=1.1.1->visualdl->paddleocr>=2.0.1) (2.1.2)\n",
      "Requirement already satisfied: click>=8.1.3 in ./.venv/lib/python3.10/site-packages (from flask>=1.1.1->visualdl->paddleocr>=2.0.1) (8.1.7)\n",
      "Requirement already satisfied: blinker>=1.6.2 in ./.venv/lib/python3.10/site-packages (from flask>=1.1.1->visualdl->paddleocr>=2.0.1) (1.7.0)\n",
      "Requirement already satisfied: Babel>=2.12 in ./.venv/lib/python3.10/site-packages (from Flask-Babel>=3.0.0->visualdl->paddleocr>=2.0.1) (2.14.0)\n",
      "Requirement already satisfied: pytz>=2022.7 in ./.venv/lib/python3.10/site-packages (from Flask-Babel>=3.0.0->visualdl->paddleocr>=2.0.1) (2023.3.post1)\n",
      "Requirement already satisfied: pycryptodome>=3.8.0 in ./.venv/lib/python3.10/site-packages (from bce-python-sdk->visualdl->paddleocr>=2.0.1) (3.20.0)\n",
      "Requirement already satisfied: future>=0.6.0 in ./.venv/lib/python3.10/site-packages (from bce-python-sdk->visualdl->paddleocr>=2.0.1) (0.18.3)\n",
      "Requirement already satisfied: contourpy>=1.0.1 in ./.venv/lib/python3.10/site-packages (from matplotlib->imgaug->paddleocr>=2.0.1) (1.2.0)\n",
      "Requirement already satisfied: cycler>=0.10 in ./.venv/lib/python3.10/site-packages (from matplotlib->imgaug->paddleocr>=2.0.1) (0.12.1)\n",
      "Requirement already satisfied: kiwisolver>=1.3.1 in ./.venv/lib/python3.10/site-packages (from matplotlib->imgaug->paddleocr>=2.0.1) (1.4.5)\n",
      "Requirement already satisfied: pyparsing>=2.3.1 in ./.venv/lib/python3.10/site-packages (from matplotlib->imgaug->paddleocr>=2.0.1) (3.1.1)\n",
      "Requirement already satisfied: python-dateutil>=2.7 in ./.venv/lib/python3.10/site-packages (from matplotlib->imgaug->paddleocr>=2.0.1) (2.8.2)\n",
      "Requirement already satisfied: tzdata>=2022.7 in ./.venv/lib/python3.10/site-packages (from pandas->visualdl->paddleocr>=2.0.1) (2023.4)\n",
      "Requirement already satisfied: charset-normalizer<4,>=2 in ./.venv/lib/python3.10/site-packages (from requests->premailer->paddleocr>=2.0.1) (3.3.2)\n",
      "Requirement already satisfied: idna<4,>=2.5 in ./.venv/lib/python3.10/site-packages (from requests->premailer->paddleocr>=2.0.1) (3.6)\n",
      "Requirement already satisfied: urllib3<3,>=1.21.1 in ./.venv/lib/python3.10/site-packages (from requests->premailer->paddleocr>=2.0.1) (2.1.0)\n",
      "Requirement already satisfied: certifi>=2017.4.17 in ./.venv/lib/python3.10/site-packages (from requests->premailer->paddleocr>=2.0.1) (2023.11.17)\n",
      "Requirement already satisfied: MarkupSafe>=2.0 in ./.venv/lib/python3.10/site-packages (from Jinja2>=3.1.2->flask>=1.1.1->visualdl->paddleocr>=2.0.1) (2.1.4)\n"
     ]
    }
   ],
   "source": [
    "!pip install paddlepaddle-gpu\n",
    "!pip install paddleocr\n",
    "!pip install paddlepaddle\n",
    "!pip install opencv-python\n",
    "!python -m pip install paddlepaddle-gpu -i https://pypi.tuna.tsinghua.edu.cn/simple\n",
    "!python -m pip install paddlepaddle -i https://pypi.tuna.tsinghua.edu.cn/simple\n",
    "!pip install \"paddleocr>=2.0.1\" # Recommend to use version 2.0.1+\n"
   ]
  },
  {
   "cell_type": "code",
   "execution_count": null,
   "metadata": {},
   "outputs": [],
   "source": [
    "!sudo apt-get update && sudo apt-get install libgl1-mesa-glx -y"
   ]
  },
  {
   "cell_type": "code",
   "execution_count": 11,
   "metadata": {},
   "outputs": [
    {
     "name": "stdout",
     "output_type": "stream",
     "text": [
      "[2024/01/21 06:38:30] ppocr DEBUG: Namespace(help='==SUPPRESS==', use_gpu=False, use_xpu=False, use_npu=False, ir_optim=True, use_tensorrt=False, min_subgraph_size=15, precision='fp32', gpu_mem=500, gpu_id=0, image_dir=None, page_num=0, det_algorithm='DB', det_model_dir='/home/codespace/.paddleocr/whl/det/en/en_PP-OCRv3_det_infer', det_limit_side_len=960, det_limit_type='max', det_box_type='quad', det_db_thresh=0.3, det_db_box_thresh=0.6, det_db_unclip_ratio=1.5, max_batch_size=10, use_dilation=False, det_db_score_mode='fast', det_east_score_thresh=0.8, det_east_cover_thresh=0.1, det_east_nms_thresh=0.2, det_sast_score_thresh=0.5, det_sast_nms_thresh=0.2, det_pse_thresh=0, det_pse_box_thresh=0.85, det_pse_min_area=16, det_pse_scale=1, scales=[8, 16, 32], alpha=1.0, beta=1.0, fourier_degree=5, rec_algorithm='SVTR_LCNet', rec_model_dir='/home/codespace/.paddleocr/whl/rec/en/en_PP-OCRv4_rec_infer', rec_image_inverse=True, rec_image_shape='3, 48, 320', rec_batch_num=6, max_text_length=25, rec_char_dict_path='/workspaces/shodanchelchar/.venv/lib/python3.10/site-packages/paddleocr/ppocr/utils/en_dict.txt', use_space_char=True, vis_font_path='./doc/fonts/simfang.ttf', drop_score=0.5, e2e_algorithm='PGNet', e2e_model_dir=None, e2e_limit_side_len=768, e2e_limit_type='max', e2e_pgnet_score_thresh=0.5, e2e_char_dict_path='./ppocr/utils/ic15_dict.txt', e2e_pgnet_valid_set='totaltext', e2e_pgnet_mode='fast', use_angle_cls=True, cls_model_dir='/home/codespace/.paddleocr/whl/cls/ch_ppocr_mobile_v2.0_cls_infer', cls_image_shape='3, 48, 192', label_list=['0', '180'], cls_batch_num=6, cls_thresh=0.9, enable_mkldnn=False, cpu_threads=10, use_pdserving=False, warmup=False, sr_model_dir=None, sr_image_shape='3, 32, 128', sr_batch_num=1, draw_img_save_dir='./inference_results', save_crop_res=False, crop_res_save_dir='./output', use_mp=False, total_process_num=1, process_id=0, benchmark=False, save_log_path='./log_output/', show_log=True, use_onnx=False, output='./output', table_max_len=488, table_algorithm='TableAttn', table_model_dir=None, merge_no_span_structure=True, table_char_dict_path=None, layout_model_dir=None, layout_dict_path=None, layout_score_threshold=0.5, layout_nms_threshold=0.5, kie_algorithm='LayoutXLM', ser_model_dir=None, re_model_dir=None, use_visual_backbone=True, ser_dict_path='../train_data/XFUND/class_list_xfun.txt', ocr_order_method=None, mode='structure', image_orientation=False, layout=True, table=True, ocr=True, recovery=False, use_pdf2docx_api=False, invert=False, binarize=False, alphacolor=(255, 255, 255), lang='en', det=True, rec=True, type='ocr', ocr_version='PP-OCRv4', structure_version='PP-StructureV2')\n",
      "[2024/01/21 06:38:31] ppocr DEBUG: dt_boxes num : 1, elapsed : 0.011628150939941406\n",
      "[2024/01/21 06:38:31] ppocr DEBUG: cls num  : 1, elapsed : 0.007478237152099609\n",
      "[2024/01/21 06:38:31] ppocr DEBUG: rec_res num  : 1, elapsed : 0.06851720809936523\n"
     ]
    },
    {
     "data": {
      "text/plain": [
       "[[[[[4.0, 4.0], [260.0, 1.0], [261.0, 17.0], [4.0, 20.0]],\n",
       "   ('driver dentistflorist nurse', 0.9103206396102905)]]]"
      ]
     },
     "execution_count": 11,
     "metadata": {},
     "output_type": "execute_result"
    }
   ],
   "source": [
    "from paddleocr import PaddleOCR\n",
    "\n",
    "ocr = PaddleOCR(use_angle_cls=True, lang='en')\n",
    "img_path = './00325.png'\n",
    "result = ocr.ocr(img_path, cls=True)\n",
    "\n",
    "result\n"
   ]
  },
  {
   "cell_type": "code",
   "execution_count": 12,
   "metadata": {},
   "outputs": [
    {
     "name": "stdout",
     "output_type": "stream",
     "text": [
      "--2024-01-21 06:47:21--  https://paddleocr.bj.bcebos.com/dygraph_v2.0/ch/ch_ppocr_server_v2.0_rec_train.tar\n",
      "Resolving paddleocr.bj.bcebos.com (paddleocr.bj.bcebos.com)... 103.235.46.61, 2409:8c04:1001:1002:0:ff:b001:368a\n",
      "Connecting to paddleocr.bj.bcebos.com (paddleocr.bj.bcebos.com)|103.235.46.61|:443... connected.\n",
      "HTTP request sent, awaiting response... 200 OK\n",
      "Length: 498035200 (475M) [application/x-tar]\n",
      "Saving to: ‘ch_ppocr_server_v2.0_rec_train.tar’\n",
      "\n",
      "ch_ppocr_server_v2. 100%[===================>] 474.96M  21.9MB/s    in 32s     \n",
      "\n",
      "2024-01-21 06:47:54 (14.9 MB/s) - ‘ch_ppocr_server_v2.0_rec_train.tar’ saved [498035200/498035200]\n",
      "\n"
     ]
    }
   ],
   "source": [
    "!wget https://paddleocr.bj.bcebos.com/dygraph_v2.0/ch/ch_ppocr_server_v2.0_rec_train.tar"
   ]
  },
  {
   "cell_type": "code",
   "execution_count": 13,
   "metadata": {},
   "outputs": [
    {
     "name": "stdout",
     "output_type": "stream",
     "text": [
      "./._ch_ppocr_server_v2.0_rec_train\n",
      "ch_ppocr_server_v2.0_rec_train/\n",
      "ch_ppocr_server_v2.0_rec_train/._best_accuracy.pdparams\n",
      "ch_ppocr_server_v2.0_rec_train/best_accuracy.pdparams\n",
      "ch_ppocr_server_v2.0_rec_train/._best_accuracy.states\n",
      "ch_ppocr_server_v2.0_rec_train/best_accuracy.states\n",
      "ch_ppocr_server_v2.0_rec_train/._best_accuracy.pdopt\n",
      "ch_ppocr_server_v2.0_rec_train/best_accuracy.pdopt\n",
      "ch_ppocr_server_v2.0_rec_train/._train.log\n",
      "ch_ppocr_server_v2.0_rec_train/train.log\n"
     ]
    }
   ],
   "source": [
    "!tar -xvf ./ch_ppocr_server_v2.0_rec_train.tar"
   ]
  },
  {
   "cell_type": "code",
   "execution_count": 20,
   "metadata": {},
   "outputs": [
    {
     "name": "stdout",
     "output_type": "stream",
     "text": [
      "[2024/01/21 06:56:16] ppocr DEBUG: Namespace(help='==SUPPRESS==', use_gpu=False, use_xpu=False, use_npu=False, ir_optim=True, use_tensorrt=False, min_subgraph_size=15, precision='fp32', gpu_mem=500, gpu_id=0, image_dir=None, page_num=0, det_algorithm='DB', det_model_dir='/home/codespace/.paddleocr/whl/det/ch/ch_PP-OCRv4_det_infer', det_limit_side_len=960, det_limit_type='max', det_box_type='quad', det_db_thresh=0.3, det_db_box_thresh=0.6, det_db_unclip_ratio=1.5, max_batch_size=10, use_dilation=False, det_db_score_mode='fast', det_east_score_thresh=0.8, det_east_cover_thresh=0.1, det_east_nms_thresh=0.2, det_sast_score_thresh=0.5, det_sast_nms_thresh=0.2, det_pse_thresh=0, det_pse_box_thresh=0.85, det_pse_min_area=16, det_pse_scale=1, scales=[8, 16, 32], alpha=1.0, beta=1.0, fourier_degree=5, rec_algorithm='SVTR_LCNet', rec_model_dir='en_PP-OCRv3_rec_train', rec_image_inverse=True, rec_image_shape='3, 48, 320', rec_batch_num=6, max_text_length=25, rec_char_dict_path='/workspaces/shodanchelchar/.venv/lib/python3.10/site-packages/paddleocr/ppocr/utils/ppocr_keys_v1.txt', use_space_char=True, vis_font_path='./doc/fonts/simfang.ttf', drop_score=0.5, e2e_algorithm='PGNet', e2e_model_dir=None, e2e_limit_side_len=768, e2e_limit_type='max', e2e_pgnet_score_thresh=0.5, e2e_char_dict_path='./ppocr/utils/ic15_dict.txt', e2e_pgnet_valid_set='totaltext', e2e_pgnet_mode='fast', use_angle_cls=True, cls_model_dir='/home/codespace/.paddleocr/whl/cls/ch_ppocr_mobile_v2.0_cls_infer', cls_image_shape='3, 48, 192', label_list=['0', '180'], cls_batch_num=6, cls_thresh=0.9, enable_mkldnn=False, cpu_threads=10, use_pdserving=False, warmup=False, sr_model_dir=None, sr_image_shape='3, 32, 128', sr_batch_num=1, draw_img_save_dir='./inference_results', save_crop_res=False, crop_res_save_dir='./output', use_mp=False, total_process_num=1, process_id=0, benchmark=False, save_log_path='./log_output/', show_log=True, use_onnx=False, output='./output', table_max_len=488, table_algorithm='TableAttn', table_model_dir=None, merge_no_span_structure=True, table_char_dict_path=None, layout_model_dir=None, layout_dict_path=None, layout_score_threshold=0.5, layout_nms_threshold=0.5, kie_algorithm='LayoutXLM', ser_model_dir=None, re_model_dir=None, use_visual_backbone=True, ser_dict_path='../train_data/XFUND/class_list_xfun.txt', ocr_order_method=None, mode='structure', image_orientation=False, layout=True, table=True, ocr=True, recovery=False, use_pdf2docx_api=False, invert=False, binarize=False, alphacolor=(255, 255, 255), lang='ch', det=True, rec=True, type='ocr', ocr_version='PP-OCRv4', structure_version='PP-StructureV2')\n",
      "[2024/01/21 06:56:16] ppocr DEBUG: dt_boxes num : 1, elapsed : 0.01746201515197754\n",
      "[2024/01/21 06:56:16] ppocr DEBUG: cls num  : 1, elapsed : 0.009618043899536133\n",
      "[2024/01/21 06:56:16] ppocr DEBUG: rec_res num  : 1, elapsed : 0.07900094985961914\n",
      "[[[[[6.0, 4.0], [259.0, 1.0], [260.0, 14.0], [6.0, 17.0]], ('陂忖拳地陂鲶椤地要捌忖鄙捌瘸炎月陂忖鄙瘸1要备陂鄙地', 0.879940390586853)]]]\n"
     ]
    }
   ],
   "source": [
    "from paddleocr import PaddleOCR\n",
    "\n",
    "# مسیر مدل Recognition آموزش دیده را تعیین کنید\n",
    "recognition_model_path = 'en_PP-OCRv3_rec_train'\n",
    "\n",
    "# ایجاد یک نمونه از PaddleOCR با استفاده از مدل Recognition\n",
    "ocr = PaddleOCR(use_angle_cls=True, rec_model_dir=recognition_model_path)\n",
    "\n",
    "# مسیر تصویر متنی را تعیین کنید\n",
    "img_path = './00325.png'\n",
    "\n",
    "# تشخیص متن با استفاده از مدل Recognition\n",
    "result = ocr.ocr(img_path, cls=True, rec=True)\n",
    "\n",
    "# چاپ نتیجه\n",
    "print(result)\n"
   ]
  },
  {
   "cell_type": "code",
   "execution_count": 22,
   "metadata": {},
   "outputs": [
    {
     "name": "stdout",
     "output_type": "stream",
     "text": [
      "Reading package lists... 4%\r"
     ]
    },
    {
     "name": "stdout",
     "output_type": "stream",
     "text": [
      "Reading package lists... Done\n",
      "Building dependency tree       \n",
      "Reading state information... Done\n",
      "The following additional packages will be installed:\n",
      "  liblept5 libopenjp2-7 libtesseract4 libwebpmux3 tesseract-ocr-eng\n",
      "  tesseract-ocr-osd\n",
      "The following NEW packages will be installed:\n",
      "  liblept5 libopenjp2-7 libtesseract4 libwebpmux3 tesseract-ocr\n",
      "  tesseract-ocr-eng tesseract-ocr-osd\n",
      "0 upgraded, 7 newly installed, 0 to remove and 18 not upgraded.\n",
      "Need to get 7247 kB of archives.\n",
      "After this operation, 22.8 MB of additional disk space will be used.\n",
      "Get:1 http://archive.ubuntu.com/ubuntu focal-updates/main amd64 libopenjp2-7 amd64 2.3.1-1ubuntu4.20.04.1 [141 kB]\n",
      "Get:2 http://archive.ubuntu.com/ubuntu focal-updates/main amd64 libwebpmux3 amd64 0.6.1-2ubuntu0.20.04.3 [19.5 kB]\n",
      "Get:3 http://archive.ubuntu.com/ubuntu focal/universe amd64 liblept5 amd64 1.79.0-1 [999 kB]\n",
      "Get:4 http://archive.ubuntu.com/ubuntu focal/universe amd64 libtesseract4 amd64 4.1.1-2build2 [1237 kB]\n",
      "Get:5 http://archive.ubuntu.com/ubuntu focal/universe amd64 tesseract-ocr-eng all 1:4.00~git30-7274cfa-1 [1598 kB]\n",
      "Get:6 http://archive.ubuntu.com/ubuntu focal/universe amd64 tesseract-ocr-osd all 1:4.00~git30-7274cfa-1 [2990 kB]\n",
      "Get:7 http://archive.ubuntu.com/ubuntu focal/universe amd64 tesseract-ocr amd64 4.1.1-2build2 [262 kB]\n",
      "Fetched 7247 kB in 3s (2238 kB/s)       \u001b[0m\u001b[33m\n",
      "\n",
      "\u001b7\u001b[0;23r\u001b8\u001b[1ASelecting previously unselected package libopenjp2-7:amd64.\n",
      "(Reading database ... 71358 files and directories currently installed.)\n",
      "Preparing to unpack .../0-libopenjp2-7_2.3.1-1ubuntu4.20.04.1_amd64.deb ...\n",
      "\u001b7\u001b[24;0f\u001b[42m\u001b[30mProgress: [  0%]\u001b[49m\u001b[39m [..........................................................] \u001b8\u001b7\u001b[24;0f\u001b[42m\u001b[30mProgress: [  3%]\u001b[49m\u001b[39m [##........................................................] \u001b8Unpacking libopenjp2-7:amd64 (2.3.1-1ubuntu4.20.04.1) ...\n",
      "\u001b7\u001b[24;0f\u001b[42m\u001b[30mProgress: [  7%]\u001b[49m\u001b[39m [####......................................................] \u001b8Selecting previously unselected package libwebpmux3:amd64.\n",
      "Preparing to unpack .../1-libwebpmux3_0.6.1-2ubuntu0.20.04.3_amd64.deb ...\n",
      "\u001b7\u001b[24;0f\u001b[42m\u001b[30mProgress: [ 10%]\u001b[49m\u001b[39m [######....................................................] \u001b8Unpacking libwebpmux3:amd64 (0.6.1-2ubuntu0.20.04.3) ...\n",
      "\u001b7\u001b[24;0f\u001b[42m\u001b[30mProgress: [ 14%]\u001b[49m\u001b[39m [########..................................................] \u001b8Selecting previously unselected package liblept5:amd64.\n",
      "Preparing to unpack .../2-liblept5_1.79.0-1_amd64.deb ...\n",
      "\u001b7\u001b[24;0f\u001b[42m\u001b[30mProgress: [ 17%]\u001b[49m\u001b[39m [#########.................................................] \u001b8Unpacking liblept5:amd64 (1.79.0-1) ...\n",
      "\u001b7\u001b[24;0f\u001b[42m\u001b[30mProgress: [ 21%]\u001b[49m\u001b[39m [############..............................................] \u001b8Selecting previously unselected package libtesseract4:amd64.\n",
      "Preparing to unpack .../3-libtesseract4_4.1.1-2build2_amd64.deb ...\n",
      "\u001b7\u001b[24;0f\u001b[42m\u001b[30mProgress: [ 24%]\u001b[49m\u001b[39m [##############............................................] \u001b8Unpacking libtesseract4:amd64 (4.1.1-2build2) ...\n",
      "\u001b7\u001b[24;0f\u001b[42m\u001b[30mProgress: [ 28%]\u001b[49m\u001b[39m [################..........................................] \u001b8Selecting previously unselected package tesseract-ocr-eng.\n",
      "Preparing to unpack .../4-tesseract-ocr-eng_1%3a4.00~git30-7274cfa-1_all.deb ...\n",
      "\u001b7\u001b[24;0f\u001b[42m\u001b[30mProgress: [ 31%]\u001b[49m\u001b[39m [##################........................................] \u001b8Unpacking tesseract-ocr-eng (1:4.00~git30-7274cfa-1) ...\n",
      "\u001b7\u001b[24;0f\u001b[42m\u001b[30mProgress: [ 34%]\u001b[49m\u001b[39m [###################.......................................] \u001b8Selecting previously unselected package tesseract-ocr-osd.\n",
      "Preparing to unpack .../5-tesseract-ocr-osd_1%3a4.00~git30-7274cfa-1_all.deb ...\n",
      "\u001b7\u001b[24;0f\u001b[42m\u001b[30mProgress: [ 38%]\u001b[49m\u001b[39m [######################....................................] \u001b8Unpacking tesseract-ocr-osd (1:4.00~git30-7274cfa-1) ...\n",
      "\u001b7\u001b[24;0f\u001b[42m\u001b[30mProgress: [ 41%]\u001b[49m\u001b[39m [########################..................................] \u001b8Selecting previously unselected package tesseract-ocr.\n",
      "Preparing to unpack .../6-tesseract-ocr_4.1.1-2build2_amd64.deb ...\n",
      "\u001b7\u001b[24;0f\u001b[42m\u001b[30mProgress: [ 45%]\u001b[49m\u001b[39m [##########################................................] \u001b8Unpacking tesseract-ocr (4.1.1-2build2) ...\n",
      "\u001b7\u001b[24;0f\u001b[42m\u001b[30mProgress: [ 48%]\u001b[49m\u001b[39m [############################..............................] \u001b8Setting up tesseract-ocr-eng (1:4.00~git30-7274cfa-1) ...\n",
      "\u001b7\u001b[24;0f\u001b[42m\u001b[30mProgress: [ 52%]\u001b[49m\u001b[39m [#############################.............................] \u001b8\u001b7\u001b[24;0f\u001b[42m\u001b[30mProgress: [ 55%]\u001b[49m\u001b[39m [################################..........................] \u001b8Setting up libopenjp2-7:amd64 (2.3.1-1ubuntu4.20.04.1) ...\n",
      "\u001b7\u001b[24;0f\u001b[42m\u001b[30mProgress: [ 59%]\u001b[49m\u001b[39m [##################################........................] \u001b8\u001b7\u001b[24;0f\u001b[42m\u001b[30mProgress: [ 62%]\u001b[49m\u001b[39m [####################################......................] \u001b8Setting up tesseract-ocr-osd (1:4.00~git30-7274cfa-1) ...\n",
      "\u001b7\u001b[24;0f\u001b[42m\u001b[30mProgress: [ 66%]\u001b[49m\u001b[39m [######################################....................] \u001b8\u001b7\u001b[24;0f\u001b[42m\u001b[30mProgress: [ 69%]\u001b[49m\u001b[39m [#######################################...................] \u001b8Setting up libwebpmux3:amd64 (0.6.1-2ubuntu0.20.04.3) ...\n",
      "\u001b7\u001b[24;0f\u001b[42m\u001b[30mProgress: [ 72%]\u001b[49m\u001b[39m [##########################################................] \u001b8\u001b7\u001b[24;0f\u001b[42m\u001b[30mProgress: [ 76%]\u001b[49m\u001b[39m [############################################..............] \u001b8Setting up liblept5:amd64 (1.79.0-1) ...\n",
      "\u001b7\u001b[24;0f\u001b[42m\u001b[30mProgress: [ 79%]\u001b[49m\u001b[39m [##############################################............] \u001b8\u001b7\u001b[24;0f\u001b[42m\u001b[30mProgress: [ 83%]\u001b[49m\u001b[39m [################################################..........] \u001b8Setting up libtesseract4:amd64 (4.1.1-2build2) ...\n",
      "\u001b7\u001b[24;0f\u001b[42m\u001b[30mProgress: [ 86%]\u001b[49m\u001b[39m [##################################################........] \u001b8\u001b7\u001b[24;0f\u001b[42m\u001b[30mProgress: [ 90%]\u001b[49m\u001b[39m [####################################################......] \u001b8Setting up tesseract-ocr (4.1.1-2build2) ...\n",
      "\u001b7\u001b[24;0f\u001b[42m\u001b[30mProgress: [ 93%]\u001b[49m\u001b[39m [#####################################################.....] \u001b8\u001b7\u001b[24;0f\u001b[42m\u001b[30mProgress: [ 97%]\u001b[49m\u001b[39m [########################################################..] \u001b8Processing triggers for man-db (2.9.1-1) ...\n",
      "Processing triggers for libc-bin (2.31-0ubuntu9.14) ...\n",
      "\n",
      "\u001b7\u001b[0;24r\u001b8\u001b[1A\u001b[JRequirement already satisfied: pytesseract in ./.venv/lib/python3.10/site-packages (0.3.10)\n",
      "Requirement already satisfied: packaging>=21.3 in ./.venv/lib/python3.10/site-packages (from pytesseract) (23.2)\n",
      "Requirement already satisfied: Pillow>=8.0.0 in ./.venv/lib/python3.10/site-packages (from pytesseract) (10.2.0)\n"
     ]
    }
   ],
   "source": [
    "!sudo apt install tesseract-ocr -y\n",
    "!pip install pytesseract\n"
   ]
  },
  {
   "cell_type": "code",
   "execution_count": 23,
   "metadata": {},
   "outputs": [],
   "source": [
    "import pytesseract"
   ]
  },
  {
   "cell_type": "code",
   "execution_count": 25,
   "metadata": {},
   "outputs": [
    {
     "name": "stdout",
     "output_type": "stream",
     "text": [
      " \n",
      "\n",
      "lorist, nurse\n",
      "\f\n"
     ]
    }
   ],
   "source": [
    "import pytesseract\n",
    "from PIL import Image\n",
    "\n",
    "# مسیر تصویر متنی را تعیین کنید\n",
    "img_path = './00325.png'\n",
    "\n",
    "# باز کردن تصویر با استفاده از PIL\n",
    "img = Image.open(img_path)\n",
    "\n",
    "# تشخیص متن با استفاده از Tesseract با زبان مورد نظر\n",
    "text = pytesseract.image_to_string(img, lang='eng')  # 'eng' به عنوان نمونه برای انگلیسی استفاده شده است\n",
    "\n",
    "# چاپ نتیجه\n",
    "print(text)\n"
   ]
  },
  {
   "cell_type": "code",
   "execution_count": 28,
   "metadata": {},
   "outputs": [
    {
     "name": "stdout",
     "output_type": "stream",
     "text": [
      "--2024-01-21 07:03:51--  https://github.com/tesseract-ocr/tessdata_best/raw/main/eng.traineddata\n",
      "Resolving github.com (github.com)... 20.207.73.82\n",
      "Connecting to github.com (github.com)|20.207.73.82|:443... connected.\n",
      "HTTP request sent, awaiting response... 302 Found\n",
      "Location: https://raw.githubusercontent.com/tesseract-ocr/tessdata_best/main/eng.traineddata [following]\n",
      "--2024-01-21 07:03:51--  https://raw.githubusercontent.com/tesseract-ocr/tessdata_best/main/eng.traineddata\n",
      "Resolving raw.githubusercontent.com (raw.githubusercontent.com)... 185.199.108.133, 185.199.109.133, 185.199.110.133, ...\n",
      "Connecting to raw.githubusercontent.com (raw.githubusercontent.com)|185.199.108.133|:443... connected.\n",
      "HTTP request sent, awaiting response... 200 OK\n",
      "Length: 15400601 (15M) [application/octet-stream]\n",
      "Saving to: ‘eng.traineddata’\n",
      "\n",
      "eng.traineddata     100%[===================>]  14.69M  27.6MB/s    in 0.5s    \n",
      "\n",
      "2024-01-21 07:03:53 (27.6 MB/s) - ‘eng.traineddata’ saved [15400601/15400601]\n",
      "\n"
     ]
    }
   ],
   "source": [
    "!wget https://github.com/tesseract-ocr/tessdata_best/raw/main/eng.traineddata\n"
   ]
  },
  {
   "cell_type": "code",
   "execution_count": 29,
   "metadata": {},
   "outputs": [],
   "source": [
    "!sudo mv eng.traineddata /usr/share/tesseract-ocr/4.00/tessdata/\n"
   ]
  },
  {
   "cell_type": "code",
   "execution_count": 30,
   "metadata": {},
   "outputs": [
    {
     "name": "stdout",
     "output_type": "stream",
     "text": [
      " \n",
      "\n",
      "lorist, nurse\n",
      "\f\n"
     ]
    }
   ],
   "source": [
    "import pytesseract\n",
    "from PIL import Image\n",
    "\n",
    "# مسیر تصویر متنی را تعیین کنید\n",
    "img_path = './00325.png'\n",
    "\n",
    "# باز کردن تصویر با استفاده از PIL\n",
    "img = Image.open(img_path)\n",
    "\n",
    "# تنظیمات Pytesseract برای مدل آموزش دیده\n",
    "custom_config = r'--tessdata-dir \"/usr/share/tesseract-ocr/4.00/tessdata/\" -l eng'\n",
    "\n",
    "# تشخیص متن با استفاده از Tesseract با مدل آموزش دیده\n",
    "text = pytesseract.image_to_string(img, config=custom_config)\n",
    "\n",
    "# چاپ نتیجه\n",
    "print(text)\n"
   ]
  },
  {
   "cell_type": "code",
   "execution_count": 31,
   "metadata": {},
   "outputs": [],
   "source": [
    "from PIL import Image\n",
    "\n",
    "# مسیر تصویر PNG\n",
    "png_image_path = '00325.png'\n",
    "\n",
    "# باز کردن تصویر با استفاده از PIL\n",
    "img = Image.open(png_image_path)\n",
    "\n",
    "# ذخیره به فرمت JPG\n",
    "jpg_image_path = '00325.jpg'\n",
    "img.convert('RGB').save(jpg_image_path, 'JPEG')\n",
    "\n",
    "# یا می‌توانید کیفیت تصویر را تعیین کنید\n",
    "# img.convert('RGB').save(jpg_image_path, 'JPEG', quality=85)\n"
   ]
  },
  {
   "cell_type": "code",
   "execution_count": 32,
   "metadata": {},
   "outputs": [
    {
     "data": {
      "text/plain": [
       "True"
      ]
     },
     "execution_count": 32,
     "metadata": {},
     "output_type": "execute_result"
    }
   ],
   "source": [
    "import cv2\n",
    "\n",
    "# مسیر تصویر PNG\n",
    "png_image_path = '00325.png'\n",
    "\n",
    "# خواندن تصویر با OpenCV\n",
    "img = cv2.imread(png_image_path)\n",
    "\n",
    "# تبدیل تصویر به فرمت JPG و ذخیره بدون کاهش کیفیت\n",
    "jpg_image_path = '00325.jpg'\n",
    "cv2.imwrite(jpg_image_path, img, [int(cv2.IMWRITE_JPEG_QUALITY), 100])\n"
   ]
  },
  {
   "cell_type": "code",
   "execution_count": 33,
   "metadata": {},
   "outputs": [
    {
     "data": {
      "text/plain": [
       "True"
      ]
     },
     "execution_count": 33,
     "metadata": {},
     "output_type": "execute_result"
    }
   ],
   "source": [
    "import cv2 \n",
    "  \n",
    "# Loading .png image \n",
    "png_img = cv2.imread('00325.png') \n",
    "  \n",
    "\n",
    "cv2.imwrite('00325.jpg', png_img, [int(cv2.IMWRITE_JPEG_QUALITY), 100])"
   ]
  },
  {
   "cell_type": "code",
   "execution_count": 34,
   "metadata": {},
   "outputs": [],
   "source": [
    "from PIL import Image\n",
    "\n",
    "im = Image.open(\"00325.png\")\n",
    "rgb_im = im.convert('RGB')\n",
    "rgb_im.save('00325.jpg')"
   ]
  },
  {
   "cell_type": "code",
   "execution_count": 35,
   "metadata": {},
   "outputs": [
    {
     "data": {
      "text/plain": [
       "(24, 269, 3)"
      ]
     },
     "execution_count": 35,
     "metadata": {},
     "output_type": "execute_result"
    }
   ],
   "source": [
    "import cv2\n",
    "\n",
    "# مسیر تصویر PNG\n",
    "png_image_path = '00325.jpg'\n",
    "\n",
    "# خواندن تصویر با OpenCV\n",
    "img = cv2.imread(png_image_path)\n",
    "img.shape"
   ]
  },
  {
   "cell_type": "code",
   "execution_count": 36,
   "metadata": {},
   "outputs": [
    {
     "name": "stdout",
     "output_type": "stream",
     "text": [
      "Collecting imagecodecs\n",
      "  Downloading imagecodecs-2024.1.1-cp310-cp310-manylinux_2_17_x86_64.manylinux2014_x86_64.whl.metadata (19 kB)\n",
      "Requirement already satisfied: numpy in ./.venv/lib/python3.10/site-packages (from imagecodecs) (1.26.3)\n",
      "Downloading imagecodecs-2024.1.1-cp310-cp310-manylinux_2_17_x86_64.manylinux2014_x86_64.whl (39.6 MB)\n",
      "\u001b[2K   \u001b[90m━━━━━━━━━━━━━━━━━━━━━━━━━━━━━━━━━━━━━━━━\u001b[0m \u001b[32m39.6/39.6 MB\u001b[0m \u001b[31m25.7 MB/s\u001b[0m eta \u001b[36m0:00:00\u001b[0m00:01\u001b[0m00:01\u001b[0m\n",
      "\u001b[?25hInstalling collected packages: imagecodecs\n",
      "Successfully installed imagecodecs-2024.1.1\n"
     ]
    }
   ],
   "source": [
    "!pip install imagecodecs\n"
   ]
  },
  {
   "cell_type": "code",
   "execution_count": 38,
   "metadata": {},
   "outputs": [],
   "source": [
    "import imagecodecs\n",
    "import numpy as np\n",
    "\n",
    "# مسیر تصویر PNG\n",
    "png_image_path = '00325.png'\n",
    "\n",
    "# خواندن تصویر و تبدیل آن به آرایه NumPy\n",
    "img_array = imagecodecs.imread(png_image_path)\n",
    "\n",
    "# ذخیره تصویر به فرمت JPEG\n",
    "jpeg_image_path = '00325.jpg'\n",
    "imagecodecs.imwrite(jpeg_image_path, img_array)  # quality در بازه 0 تا 100 است\n"
   ]
  },
  {
   "cell_type": "code",
   "execution_count": 39,
   "metadata": {},
   "outputs": [],
   "source": [
    "from PIL import Image\n",
    "\n",
    "# مسیر تصویر PNG\n",
    "png_image_path = '00325.png'\n",
    "\n",
    "# باز کردن تصویر با استفاده از PIL\n",
    "img = Image.open(png_image_path)\n",
    "\n",
    "# ایجاد یک تصویر جدید با پس زمینه سفید\n",
    "new_img = Image.new(\"RGB\", img.size, (255, 255, 255))\n",
    "\n",
    "# افزودن تصویر با شفافیت به تصویر جدید\n",
    "new_img.paste(img, (0, 0), img)\n",
    "\n",
    "# ذخیره تصویر به فرمت JPEG\n",
    "jpeg_image_path = '00325.jpg'\n",
    "new_img.save(jpeg_image_path, 'JPEG')\n"
   ]
  },
  {
   "cell_type": "code",
   "execution_count": 40,
   "metadata": {},
   "outputs": [
    {
     "name": "stdout",
     "output_type": "stream",
     "text": [
      "[2024/01/21 07:40:25] ppocr DEBUG: Namespace(help='==SUPPRESS==', use_gpu=False, use_xpu=False, use_npu=False, ir_optim=True, use_tensorrt=False, min_subgraph_size=15, precision='fp32', gpu_mem=500, gpu_id=0, image_dir=None, page_num=0, det_algorithm='DB', det_model_dir='/home/codespace/.paddleocr/whl/det/en/en_PP-OCRv3_det_infer', det_limit_side_len=960, det_limit_type='max', det_box_type='quad', det_db_thresh=0.3, det_db_box_thresh=0.6, det_db_unclip_ratio=1.5, max_batch_size=10, use_dilation=False, det_db_score_mode='fast', det_east_score_thresh=0.8, det_east_cover_thresh=0.1, det_east_nms_thresh=0.2, det_sast_score_thresh=0.5, det_sast_nms_thresh=0.2, det_pse_thresh=0, det_pse_box_thresh=0.85, det_pse_min_area=16, det_pse_scale=1, scales=[8, 16, 32], alpha=1.0, beta=1.0, fourier_degree=5, rec_algorithm='SVTR_LCNet', rec_model_dir='/home/codespace/.paddleocr/whl/rec/en/en_PP-OCRv4_rec_infer', rec_image_inverse=True, rec_image_shape='3, 48, 320', rec_batch_num=6, max_text_length=25, rec_char_dict_path='/workspaces/shodanchelchar/.venv/lib/python3.10/site-packages/paddleocr/ppocr/utils/en_dict.txt', use_space_char=True, vis_font_path='./doc/fonts/simfang.ttf', drop_score=0.5, e2e_algorithm='PGNet', e2e_model_dir=None, e2e_limit_side_len=768, e2e_limit_type='max', e2e_pgnet_score_thresh=0.5, e2e_char_dict_path='./ppocr/utils/ic15_dict.txt', e2e_pgnet_valid_set='totaltext', e2e_pgnet_mode='fast', use_angle_cls=True, cls_model_dir='/home/codespace/.paddleocr/whl/cls/ch_ppocr_mobile_v2.0_cls_infer', cls_image_shape='3, 48, 192', label_list=['0', '180'], cls_batch_num=6, cls_thresh=0.9, enable_mkldnn=False, cpu_threads=10, use_pdserving=False, warmup=False, sr_model_dir=None, sr_image_shape='3, 32, 128', sr_batch_num=1, draw_img_save_dir='./inference_results', save_crop_res=False, crop_res_save_dir='./output', use_mp=False, total_process_num=1, process_id=0, benchmark=False, save_log_path='./log_output/', show_log=True, use_onnx=False, output='./output', table_max_len=488, table_algorithm='TableAttn', table_model_dir=None, merge_no_span_structure=True, table_char_dict_path=None, layout_model_dir=None, layout_dict_path=None, layout_score_threshold=0.5, layout_nms_threshold=0.5, kie_algorithm='LayoutXLM', ser_model_dir=None, re_model_dir=None, use_visual_backbone=True, ser_dict_path='../train_data/XFUND/class_list_xfun.txt', ocr_order_method=None, mode='structure', image_orientation=False, layout=True, table=True, ocr=True, recovery=False, use_pdf2docx_api=False, invert=False, binarize=False, alphacolor=(255, 255, 255), lang='en', det=True, rec=True, type='ocr', ocr_version='PP-OCRv4', structure_version='PP-StructureV2')\n",
      "[2024/01/21 07:40:26] ppocr DEBUG: dt_boxes num : 1, elapsed : 0.011271238327026367\n",
      "[2024/01/21 07:40:26] ppocr DEBUG: cls num  : 1, elapsed : 0.00694584846496582\n",
      "[2024/01/21 07:40:26] ppocr DEBUG: rec_res num  : 1, elapsed : 0.07633638381958008\n"
     ]
    },
    {
     "data": {
      "text/plain": [
       "[[[[[3.0, 3.0], [261.0, 1.0], [262.0, 19.0], [3.0, 21.0]],\n",
       "   ('driver dentistflorist nurse', 0.9058105945587158)]]]"
      ]
     },
     "execution_count": 40,
     "metadata": {},
     "output_type": "execute_result"
    }
   ],
   "source": [
    "from paddleocr import PaddleOCR\n",
    "\n",
    "ocr = PaddleOCR(use_angle_cls=True, lang='en')\n",
    "img_path = './00325.jpg'\n",
    "result = ocr.ocr(img_path, cls=True)\n",
    "\n",
    "result\n"
   ]
  }
 ],
 "metadata": {
  "kernelspec": {
   "display_name": "Python 3",
   "language": "python",
   "name": "python3"
  },
  "language_info": {
   "codemirror_mode": {
    "name": "ipython",
    "version": 3
   },
   "file_extension": ".py",
   "mimetype": "text/x-python",
   "name": "python",
   "nbconvert_exporter": "python",
   "pygments_lexer": "ipython3",
   "version": "3.10.13"
  }
 },
 "nbformat": 4,
 "nbformat_minor": 2
}
